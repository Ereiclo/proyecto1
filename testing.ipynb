{
 "cells": [
  {
   "cell_type": "code",
   "execution_count": 1,
   "metadata": {},
   "outputs": [],
   "source": [
    "import pandas as pd\n",
    "from decision_tree import DT\n",
    "from sklearn.metrics import confusion_matrix\n",
    "\n",
    "data = pd.read_csv('./tests_datasets/testing.csv')\n",
    "\n",
    "data_train = data.sample(frac=0.7, random_state=43)\n",
    "data_test = data[~data.index.isin(data_train.index)]\n",
    "# print(data_train.head())\n",
    "# print(data_train.shape)\n",
    "# print(data_test.shape)\n",
    "# print(data.shape)\n",
    "# data_test = data[data.index.isin(data_train)]\n",
    "X_train = data_train.drop(columns='Clase').to_numpy()\n",
    "Y_train = data_train['Clase'].to_numpy()\n",
    "\n",
    "X_test = data_test.drop(columns='Clase').to_numpy()\n",
    "Y_test = data_test['Clase'].to_numpy()\n",
    "\n"
   ]
  },
  {
   "cell_type": "code",
   "execution_count": 2,
   "metadata": {},
   "outputs": [],
   "source": [
    "dt = DT(X_train,Y_train)\n"
   ]
  },
  {
   "cell_type": "code",
   "execution_count": 3,
   "metadata": {},
   "outputs": [
    {
     "name": "stdout",
     "output_type": "stream",
     "text": [
      "0.92\n"
     ]
    }
   ],
   "source": [
    "a = confusion_matrix(Y_test,dt.predict(X_test))\n",
    "\n",
    "total_elems = a[0][0] + a[0][1] + a[1][0] + a[1][1]\n",
    "\n",
    "print( (a[0][0] + a[1][1]) / total_elems )\n"
   ]
  }
 ],
 "metadata": {
  "kernelspec": {
   "display_name": "Python 3",
   "language": "python",
   "name": "python3"
  },
  "language_info": {
   "codemirror_mode": {
    "name": "ipython",
    "version": 3
   },
   "file_extension": ".py",
   "mimetype": "text/x-python",
   "name": "python",
   "nbconvert_exporter": "python",
   "pygments_lexer": "ipython3",
   "version": "3.10.6"
  },
  "orig_nbformat": 4
 },
 "nbformat": 4,
 "nbformat_minor": 2
}
