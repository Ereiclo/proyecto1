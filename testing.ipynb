{
 "cells": [
  {
   "cell_type": "code",
   "execution_count": 1,
   "metadata": {},
   "outputs": [],
   "source": [
    "import seaborn as sns\n",
    "import numpy as np\n",
    "import pandas as pd\n",
    "import pandas as pd\n",
    "import numpy as np\n",
    "from decision_tree import DT\n",
    "from sklearn.metrics import confusion_matrix\n",
    "\n",
    "\n"
   ]
  },
  {
   "cell_type": "code",
   "execution_count": 2,
   "metadata": {},
   "outputs": [],
   "source": [
    "# data = pd.read_csv('./tests_datasets/testing.csv')\n",
    "# data = pd.read_csv('./tests_datasets/iris.csv')\n",
    "# data = iris\n",
    "\n",
    "data = sns.load_dataset('iris')\n",
    "\n",
    "data_train = data.sample(frac=0.7, random_state=43)\n",
    "data_test = data[~data.index.isin(data_train.index)]\n",
    "\n",
    "\n",
    "\n",
    "# print(data_train.head())\n",
    "# print(data_train.shape)\n",
    "# print(data_test.shape)\n",
    "# print(data.shape)\n",
    "# data_test = data[data.index.isin(data_train)]\n",
    "clases = {elem for elem in data_train['species']}\n",
    "id_of_class = {}\n",
    "\n",
    "_id = 0\n",
    "for class_ in clases:\n",
    "    id_of_class[class_]  = _id\n",
    "    _id += 1\n",
    "\n",
    "\n",
    "\n",
    "\n",
    "update_clases = np.vectorize(lambda x: id_of_class[x])\n",
    "X_train = data_train.drop(columns='species').to_numpy()\n",
    "Y_train = data_train['species'].to_numpy()\n",
    "Y_train = update_clases(Y_train)\n",
    "\n",
    "\n",
    "X_test = data_test.drop(columns='species').to_numpy()\n",
    "Y_test = data_test['species'].to_numpy()\n",
    "Y_test = update_clases(Y_test)\n",
    "\n"
   ]
  },
  {
   "cell_type": "code",
   "execution_count": null,
   "metadata": {},
   "outputs": [],
   "source": []
  },
  {
   "cell_type": "code",
   "execution_count": 3,
   "metadata": {},
   "outputs": [
    {
     "name": "stdout",
     "output_type": "stream",
     "text": [
      "[0 0 0 0 0 0 0 0 0 0 0 0 0 0 0 2 2 2 2 2 2 2 2 2 2 2 2 2 2 2 1 1 1 1 1 1 1\n",
      " 1 1 1 1 1 1 1 1]\n",
      "['setosa' 'setosa' 'setosa' 'setosa' 'setosa' 'setosa' 'setosa' 'setosa'\n",
      " 'setosa' 'setosa' 'setosa' 'setosa' 'setosa' 'setosa' 'setosa'\n",
      " 'versicolor' 'versicolor' 'versicolor' 'versicolor' 'versicolor'\n",
      " 'versicolor' 'versicolor' 'versicolor' 'versicolor' 'versicolor'\n",
      " 'versicolor' 'versicolor' 'versicolor' 'versicolor' 'versicolor'\n",
      " 'virginica' 'virginica' 'virginica' 'virginica' 'virginica' 'virginica'\n",
      " 'virginica' 'virginica' 'virginica' 'virginica' 'virginica' 'virginica'\n",
      " 'virginica' 'virginica' 'virginica']\n",
      "{'setosa', 'virginica', 'versicolor'}\n"
     ]
    }
   ],
   "source": [
    "print(Y_test)\n",
    "print(data_test['species'].to_numpy())\n",
    "print(clases)"
   ]
  },
  {
   "cell_type": "code",
   "execution_count": 4,
   "metadata": {},
   "outputs": [],
   "source": [
    "dt = DT(X_train,Y_train)\n"
   ]
  },
  {
   "cell_type": "code",
   "execution_count": 5,
   "metadata": {},
   "outputs": [
    {
     "name": "stdout",
     "output_type": "stream",
     "text": [
      "[[15  0  0]\n",
      " [ 0 14  1]\n",
      " [ 0  0 15]]\n",
      "[[35  0  0]\n",
      " [ 0 35  0]\n",
      " [ 0  0 35]]\n"
     ]
    }
   ],
   "source": [
    "a = confusion_matrix(Y_test,dt.predict(X_test))\n",
    "print(a)\n",
    "print(confusion_matrix(Y_train,dt.predict(X_train)))\n",
    "\n",
    "# total_elems = a[0][0] + a[0][1] + a[1][0] + a[1][1]\n",
    "\n",
    "# print( (a[0][0] + a[1][1]) / total_elems )\n"
   ]
  },
  {
   "cell_type": "code",
   "execution_count": 7,
   "metadata": {},
   "outputs": [],
   "source": [
    "pred = dt.predict(X_train)\n",
    "# print(Y_train)\n",
    "\n",
    "for i in range(len(Y_train)):\n",
    "    if pred[i] != Y_train[i]:\n",
    "        print(X_train[i],i)\n"
   ]
  }
 ],
 "metadata": {
  "kernelspec": {
   "display_name": "Python 3",
   "language": "python",
   "name": "python3"
  },
  "language_info": {
   "codemirror_mode": {
    "name": "ipython",
    "version": 3
   },
   "file_extension": ".py",
   "mimetype": "text/x-python",
   "name": "python",
   "nbconvert_exporter": "python",
   "pygments_lexer": "ipython3",
   "version": "3.10.6"
  },
  "orig_nbformat": 4
 },
 "nbformat": 4,
 "nbformat_minor": 2
}
