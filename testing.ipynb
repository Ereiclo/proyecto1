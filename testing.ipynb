{
 "cells": [
  {
   "cell_type": "code",
   "execution_count": 2,
   "metadata": {},
   "outputs": [],
   "source": [
    "import numpy as np\n",
    "def Entropy( Y):\n",
    "        # write your code here\n",
    "        if len(Y) == 0:\n",
    "            return 0\n",
    "\n",
    "        count = {}\n",
    "\n",
    "        for class_ in Y:\n",
    "            if class_ in count:\n",
    "                count[class_] += 1\n",
    "            else:\n",
    "                count[class_] = 1\n",
    "        \n",
    "        result = 0\n",
    "\n",
    "        for c in count:\n",
    "            pc = count[c]/len(Y)\n",
    "            result = result + pc*np.log2(pc)\n",
    "        \n",
    "        return -result"
   ]
  },
  {
   "cell_type": "code",
   "execution_count": 5,
   "metadata": {},
   "outputs": [
    {
     "name": "stdout",
     "output_type": "stream",
     "text": [
      "-0.0\n"
     ]
    }
   ],
   "source": [
    "print(Entropy([0,0]))"
   ]
  },
  {
   "cell_type": "code",
   "execution_count": 8,
   "metadata": {},
   "outputs": [
    {
     "name": "stdout",
     "output_type": "stream",
     "text": [
      "([0, 1, 2], [3])\n"
     ]
    }
   ],
   "source": [
    "def splitByValue(X, value):\n",
    "    indexes_left = []\n",
    "    indexes_right = []\n",
    "\n",
    "\n",
    "    for i in range(len(X)):\n",
    "        elem = X[i]\n",
    "        if elem <= value:\n",
    "            indexes_left.append(i)\n",
    "        else:\n",
    "            indexes_right.append(i)\n",
    "    \n",
    "    return indexes_left,indexes_right\n",
    "    \n",
    "\n",
    "    \n",
    "print(splitByValue([1,2,3,4],5))"
   ]
  }
 ],
 "metadata": {
  "kernelspec": {
   "display_name": "Python 3",
   "language": "python",
   "name": "python3"
  },
  "language_info": {
   "codemirror_mode": {
    "name": "ipython",
    "version": 3
   },
   "file_extension": ".py",
   "mimetype": "text/x-python",
   "name": "python",
   "nbconvert_exporter": "python",
   "pygments_lexer": "ipython3",
   "version": "3.10.6"
  },
  "orig_nbformat": 4
 },
 "nbformat": 4,
 "nbformat_minor": 2
}
