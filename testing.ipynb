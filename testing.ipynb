{
 "cells": [
  {
   "cell_type": "code",
   "execution_count": 1,
   "metadata": {},
   "outputs": [],
   "source": [
    "import seaborn as sns\n",
    "import numpy as np\n",
    "import pandas as pd\n",
    "import pandas as pd\n",
    "import numpy as np\n",
    "from decision_tree import DT\n",
    "from classsification_gd import ClassificationGD\n",
    "from sklearn.metrics import confusion_matrix\n",
    "from sklearn.metrics import recall_score,auc,f1_score,precision_score\n",
    "from sklearn.preprocessing import MinMaxScaler\n",
    "from sklearn import datasets\n",
    "from sklearn.utils import resample\n",
    "from knn import KNN\n",
    "\n",
    "import matplotlib.pyplot as plt\n",
    "import time\n",
    "\n",
    "\n"
   ]
  },
  {
   "cell_type": "code",
   "execution_count": 2,
   "metadata": {},
   "outputs": [],
   "source": [
    "def update_class(X,main,other):\n",
    "    result = []\n",
    "\n",
    "    for i in range(len(X)):\n",
    "        result.append(1 if X[i] == main else other)\n",
    "        \n",
    "    return np.array(result)\n",
    "\n",
    "def to_multi_label(Y,clases):\n",
    "\n",
    "    Y_result = []\n",
    "\n",
    "    for class_ in Y:\n",
    "        encode_for_elem = [0 for _ in range(len(clases.keys()))]\n",
    "        encode_for_elem[clases[class_]] = 1\n",
    "        Y_result.append(encode_for_elem)\n",
    "    \n",
    "\n",
    "    return np.array(Y_result)\n",
    "\n",
    "\n",
    "class multi_svm:\n",
    "    def __init__(self,alpha,epochs,c=10,batch_size = 30):\n",
    "        self.models = []\n",
    "        self.clases = []\n",
    "        self.alpha = alpha\n",
    "        self.epochs = epochs\n",
    "        self.c = c\n",
    "        self.batch_size = batch_size\n",
    "\n",
    "   \n",
    "    def train(self,X_train,Y_train,X_test,Y_test,clases):\n",
    "        self.models = []\n",
    "        self.clases = clases \n",
    "\n",
    "        for _ in range(len(self.clases)):\n",
    "            self.models.append(ClassificationGD(self.alpha,self.epochs,self.c,'svm'))\n",
    " \n",
    "\n",
    "        for i in range(len(self.clases)):\n",
    "            class_ = clases[i]\n",
    "            Y_train_ = update_class(Y_train,class_,-1)\n",
    "            Y_test_ = update_class(Y_test,class_,-1)\n",
    "\n",
    "            self.models[i].train(X_train,Y_train_,X_test,Y_test_,self.batch_size)\n",
    "    \n",
    "    def predict(self,X):\n",
    "\n",
    "\n",
    "        predictions = []\n",
    "\n",
    "\n",
    "        for point in X:\n",
    "\n",
    "            scores = {self.clases[i]:self.models[i].svm_raw_predict(point) for i in range(len(self.models))}\n",
    "            # print(scores)\n",
    "            \n",
    "            predictions.append(max(scores,key=scores.get))\n",
    "\n",
    "        \n",
    "\n",
    "\n",
    "        return np.array(predictions) \n"
   ]
  },
  {
   "cell_type": "code",
   "execution_count": 3,
   "metadata": {},
   "outputs": [],
   "source": [
    "class multi_logistic:\n",
    "    def __init__(self,alpha,epochs,batch_size=30):\n",
    "        self.models = []\n",
    "        self.clases = []\n",
    "        self.alpha = alpha\n",
    "        self.epochs = epochs\n",
    "        self.batch_size = batch_size\n",
    "\n",
    "   \n",
    "    def train(self,X_train,Y_train,X_test,Y_test,clases):\n",
    "        self.models = []\n",
    "        self.clases = clases \n",
    "\n",
    "        for _ in range(len(self.clases)):\n",
    "            self.models.append(ClassificationGD(self.alpha,self.epochs))\n",
    " \n",
    "\n",
    "        for i in range(len(self.clases)):\n",
    "            class_ = clases[i]\n",
    "            Y_train_ = update_class(Y_train,class_,0)\n",
    "            Y_test_ = update_class(Y_test,class_,0)\n",
    "\n",
    "            self.models[i].train(X_train,Y_train_,X_test,Y_test_,batch_size=self.batch_size)\n",
    "    \n",
    "    def predict(self,X):\n",
    "\n",
    "\n",
    "        predictions = []\n",
    "\n",
    "\n",
    "        for point in X:\n",
    "\n",
    "            scores = {self.clases[i]:self.models[i].logistic_h(point) for i in range(len(self.models))}\n",
    "            \n",
    "            # print(scores)\n",
    "            predictions.append(max(scores,key=scores.get))\n",
    "\n",
    "        \n",
    "\n",
    "\n",
    "        return np.array(predictions) "
   ]
  },
  {
   "cell_type": "code",
   "execution_count": 4,
   "metadata": {},
   "outputs": [],
   "source": [
    "def k_folds(X,Y,k,model):\n",
    "\n",
    "    clases = list({elem for elem in Y})\n",
    "    clases_map = {clases[i]:i for i in range(len(clases))}\n",
    "        \n",
    "    n_in_fold = len(Y)//k\n",
    "\n",
    "    precision_ = []\n",
    "    recall_ = []\n",
    "    f1_score_ = []\n",
    "    auc = []\n",
    "    total_time = 0\n",
    "\n",
    "\n",
    "\n",
    "    for i in range(k):\n",
    "        print(i)\n",
    "\n",
    "        X_train = np.concatenate([X[:i*n_in_fold],X[(i+1)*n_in_fold:]])\n",
    "        Y_train = np.concatenate([Y[:i*n_in_fold],Y[(i+1)*n_in_fold:]])\n",
    "\n",
    "        # print(X_train.shape)\n",
    "        # print(Y_train.shape)\n",
    "\n",
    "\n",
    "        X_test = X[i*n_in_fold:(i+1)*n_in_fold]\n",
    "        Y_test = Y[i*n_in_fold:(i+1)*n_in_fold]\n",
    "\n",
    "\n",
    "        # print(Y_test.shape)\n",
    "\n",
    "        # print()\n",
    "        # print()\n",
    "        # print()\n",
    "        initial_training_time = time.time()\n",
    "        model.train(X_train,Y_train,X_test,Y_test,clases)\n",
    "        training_time = time.time() - initial_training_time\n",
    "        total_time += training_time \n",
    "\n",
    "        print(f'Para el fold {i} se demoro {training_time} para entrenar')\n",
    "\n",
    "        pred = model.predict(X_test)\n",
    "        one_hot_data_pred = to_multi_label(pred,clases_map)\n",
    "\n",
    "        one_hot_real_data = to_multi_label(Y_test,clases_map)\n",
    "\n",
    "\n",
    "        # print(confusion_matrix(Y_train,pred))\n",
    "        partial_precision = precision_score(one_hot_real_data,one_hot_data_pred,average=None)\n",
    "        partial_recall = recall_score(one_hot_real_data,one_hot_data_pred,average=None)\n",
    "        partial_f1 = f1_score(one_hot_real_data,one_hot_data_pred,average=None)\n",
    "\n",
    "\n",
    "        print(partial_precision,partial_recall,partial_f1)\n",
    "\n",
    "        precision_.append(partial_precision)\n",
    "        recall_.append(partial_recall)\n",
    "        f1_score_.append(partial_f1)\n",
    "        # print(auc(Y_test,predicted_data))\n",
    "    precision_ = np.sum(np.array(precision_),axis=0)/k\n",
    "    recall_ = np.sum(np.array(recall_),axis=0)/k\n",
    "    f1_score_ = np.sum(np.array(f1_score_),axis=0)/k\n",
    "\n",
    "\n",
    "    print(f'Tiempo total: {total_time}')\n",
    "    print(precision_,recall_,f1_score_)\n",
    "\n",
    "\n",
    "        \n",
    "\n",
    "\n"
   ]
  },
  {
   "cell_type": "code",
   "execution_count": 5,
   "metadata": {},
   "outputs": [],
   "source": [
    "def boostrap(X,Y,k,model):\n",
    "\n",
    "    clases = list({elem for elem in Y})\n",
    "    clases_map = {clases[i]:i for i in range(len(clases))}\n",
    "        \n",
    "    n_in_fold = len(Y)//k\n",
    "\n",
    "    precision_ = []\n",
    "    recall_ = []\n",
    "    f1_score_ = []\n",
    "    auc = []\n",
    "    total_time = 0\n",
    "\n",
    "\n",
    "    random_states = [42 + i for i in range(k)]\n",
    "\n",
    "\n",
    "\n",
    "    for i in range(k):\n",
    "        print(i)\n",
    "\n",
    "\n",
    "        # while len(Y_test) == 0:\n",
    "\n",
    "        mask_for_training = np.array([0 for i in range(len(Y))] )\n",
    "\n",
    "\n",
    "        train_indexes = resample(range(len(Y)),n_samples=(len(Y)),replace=True,random_state=random_states[i])\n",
    "\n",
    "        mask_for_training[train_indexes] = 1\n",
    "        mask_for_testing = np.ones(len(Y)) - mask_for_training\n",
    "\n",
    "        test_indexes = [i for i in range(len(Y)) if mask_for_testing[i]]\n",
    "        # print(np.sum(mask_for_training))\n",
    "        # print(np.sum(mask_for_testing))\n",
    "\n",
    "        \n",
    "        X_train = X[train_indexes]\n",
    "        Y_train = Y[train_indexes]\n",
    "\n",
    "\n",
    "        X_test = X[test_indexes]\n",
    "        Y_test = Y[test_indexes]\n",
    "\n",
    "\n",
    "        if len(Y_test) == 0:\n",
    "            print(f'Para la seed {i} todo el testing es vacio. Continuando...')\n",
    "            continue\n",
    "\n",
    "\n",
    "\n",
    "\n",
    "        \n",
    "\n",
    "        # print(Y_train.shape)\n",
    "        # print(Y_test.shape)\n",
    "\n",
    "\n",
    "        # print()\n",
    "        # print()\n",
    "        # print()\n",
    "        initial_training_time = time.time()\n",
    "        model.train(X_train,Y_train,X_test,Y_test,clases)\n",
    "        training_time = time.time() - initial_training_time\n",
    "        total_time += training_time \n",
    "\n",
    "        print(f'Para el boostrap {i} se demoro {training_time} para entrenar')\n",
    "\n",
    "        pred = model.predict(X_test)\n",
    "        one_hot_data_pred = to_multi_label(pred,clases_map)\n",
    "\n",
    "        one_hot_real_data = to_multi_label(Y_test,clases_map)\n",
    "\n",
    "\n",
    "        # print(confusion_matrix(Y_train,pred))\n",
    "        partial_precision = precision_score(one_hot_real_data,one_hot_data_pred,average=None)\n",
    "        partial_recall = recall_score(one_hot_real_data,one_hot_data_pred,average=None)\n",
    "        partial_f1 = f1_score(one_hot_real_data,one_hot_data_pred,average=None)\n",
    "        print(partial_precision,partial_recall,partial_f1)\n",
    "\n",
    "\n",
    "        precision_.append(partial_precision)\n",
    "        recall_.append(partial_recall)\n",
    "        f1_score_.append(partial_f1)\n",
    "        # print(auc(Y_test,predicted_data))\n",
    "    precision_ = np.sum(np.array(precision_),axis=0)/k\n",
    "    recall_ = np.sum(np.array(recall_),axis=0)/k\n",
    "    f1_score_ = np.sum(np.array(f1_score_),axis=0)/k\n",
    "\n",
    "\n",
    "    print(f'Tiempo total: {total_time}')\n",
    "    print(precision_,recall_,f1_score_)\n",
    "\n",
    "\n",
    "        \n",
    "\n",
    "\n",
    "\n"
   ]
  },
  {
   "cell_type": "code",
   "execution_count": 6,
   "metadata": {},
   "outputs": [
    {
     "name": "stdout",
     "output_type": "stream",
     "text": [
      "[1, 2, 3]\n"
     ]
    }
   ],
   "source": [
    "\n",
    "scaler = MinMaxScaler()\n",
    "\n",
    "\n",
    "\n",
    "\n",
    "data = pd.read_csv('./proyect_dataset/training.csv')\n",
    "data[data.columns[:-1]] = scaler.fit_transform(data[data.columns[:-1]])\n",
    "# data[data.columns[-1]] = update_class(data[data.columns[-1]],1,-1)\n",
    "# data = data.to_numpy()\n",
    "\n",
    "print(list({elem for elem in data[data.columns[-1]]}))\n",
    "# print({elem for elem in update_class(data[data.columns[-1]],1,-1)})\n",
    "# print(type(data['LB']))\n",
    "# print(len(data['LB']))\n",
    "\n",
    "\n",
    "data_train = data.sample(frac=0.7, random_state=43)\n",
    "data_test = data[~data.index.isin(data_train.index)]\n",
    "\n",
    "\n",
    "\n",
    "\n",
    "X = data.drop(columns='CLASE').to_numpy()\n",
    "Y = data['CLASE'].to_numpy()\n",
    "\n",
    "\n",
    "X_train = data_train.drop(columns='CLASE').to_numpy()\n",
    "Y_train = data_train['CLASE'].to_numpy()\n",
    "\n",
    "X_test = data_test.drop(columns='CLASE').to_numpy()\n",
    "Y_test = data_test['CLASE'].to_numpy()\n",
    "\n",
    "\n"
   ]
  },
  {
   "cell_type": "code",
   "execution_count": 7,
   "metadata": {},
   "outputs": [
    {
     "data": {
      "text/plain": [
       "'Tiempo total: 211.1885039806366\\n[0.86592376 0.56470236 0.98333333] [0.98789498 0.33421913 0.35307015] [0.92255581 0.41236083 0.51718765]'"
      ]
     },
     "execution_count": 7,
     "metadata": {},
     "output_type": "execute_result"
    }
   ],
   "source": [
    "\n",
    "\n",
    "# k_folds(X,Y,10,multi_logistic(0.15,1000,batch_size=len(Y)))\n",
    "\n",
    "\n",
    "'''Tiempo total: 211.1885039806366\n",
    "[0.86592376 0.56470236 0.98333333] [0.98789498 0.33421913 0.35307015] [0.92255581 0.41236083 0.51718765]'''"
   ]
  },
  {
   "cell_type": "code",
   "execution_count": 8,
   "metadata": {},
   "outputs": [
    {
     "data": {
      "text/plain": [
       "'\\nTiempo total: 2.3603439331054688e-05\\n[0.94109457 0.74969949 0.89357127] [0.97239557 0.66945089 0.77829994] [0.95640472 0.70640609 0.83059618]\\n'"
      ]
     },
     "execution_count": 8,
     "metadata": {},
     "output_type": "execute_result"
    }
   ],
   "source": [
    "# k_folds(X,Y,10,KNN())\n",
    "\n",
    "\n",
    "'''\n",
    "Tiempo total: 2.3603439331054688e-05\n",
    "[0.94109457 0.74969949 0.89357127] [0.97239557 0.66945089 0.77829994] [0.95640472 0.70640609 0.83059618]\n",
    "'''"
   ]
  },
  {
   "cell_type": "code",
   "execution_count": 9,
   "metadata": {},
   "outputs": [
    {
     "data": {
      "text/plain": [
       "'\\nTiempo total: 65.01346898078918\\n[0.95675166 0.76444418 0.91935713] [0.96083191 0.75820519 0.89218247] [0.95865666 0.7581321  0.90303412]\\n'"
      ]
     },
     "execution_count": 9,
     "metadata": {},
     "output_type": "execute_result"
    }
   ],
   "source": [
    "\n",
    "# k_folds(X,Y,10,DT())\n",
    "\n",
    "\n",
    "'''\n",
    "Tiempo total: 65.01346898078918\n",
    "[0.95675166 0.76444418 0.91935713] [0.96083191 0.75820519 0.89218247] [0.95865666 0.7581321  0.90303412]\n",
    "'''"
   ]
  },
  {
   "cell_type": "code",
   "execution_count": 10,
   "metadata": {},
   "outputs": [
    {
     "data": {
      "text/plain": [
       "'\\nTiempo total: 33.13960003852844\\n[0.87043871 0.57830617 0.91874237] [0.99423027 0.27269007 0.54927161] [0.92779656 0.36098266 0.67764121]\\n'"
      ]
     },
     "execution_count": 10,
     "metadata": {},
     "output_type": "execute_result"
    }
   ],
   "source": [
    "\n",
    "# k_folds(X,Y,10,multi_svm(0.0001,1000,batch_size=200))\n",
    "\n",
    "'''\n",
    "Tiempo total: 33.13960003852844\n",
    "[0.87043871 0.57830617 0.91874237] [0.99423027 0.27269007 0.54927161] [0.92779656 0.36098266 0.67764121]\n",
    "'''"
   ]
  },
  {
   "cell_type": "code",
   "execution_count": 11,
   "metadata": {},
   "outputs": [
    {
     "name": "stdout",
     "output_type": "stream",
     "text": [
      "0\n",
      "Para el fold 0 se demoro 21.628988027572632 para entrenar\n",
      "Tiempo total: 21.628988027572632\n",
      "0.0 0.0 0.0\n"
     ]
    }
   ],
   "source": [
    "\n",
    "k_folds(X,Y,10,multi_svm(0.0001,1000,batch_size=len(Y)))"
   ]
  },
  {
   "cell_type": "markdown",
   "metadata": {},
   "source": []
  },
  {
   "cell_type": "code",
   "execution_count": null,
   "metadata": {},
   "outputs": [],
   "source": []
  },
  {
   "cell_type": "code",
   "execution_count": 12,
   "metadata": {},
   "outputs": [
    {
     "data": {
      "text/plain": [
       "'\\nTiempo total: 23.796767473220825\\n[0.85347027 0.50932012 0.97424242] [0.99495131 0.24096558 0.38434939] [0.91837534 0.32078181 0.53575505\\n'"
      ]
     },
     "execution_count": 12,
     "metadata": {},
     "output_type": "execute_result"
    }
   ],
   "source": [
    "# k_folds(X,Y,10,multi_logistic(0.15,1000,batch_size=200))\n",
    "\n",
    "\n",
    "'''\n",
    "Tiempo total: 23.796767473220825\n",
    "[0.85347027 0.50932012 0.97424242] [0.99495131 0.24096558 0.38434939] [0.91837534 0.32078181 0.53575505\n",
    "'''"
   ]
  },
  {
   "cell_type": "code",
   "execution_count": 13,
   "metadata": {},
   "outputs": [],
   "source": [
    "# print(X_train.shape)\n",
    "# print(Y_test.shape)"
   ]
  },
  {
   "cell_type": "code",
   "execution_count": 14,
   "metadata": {},
   "outputs": [],
   "source": [
    "#initial_verification \n",
    "# alpha = 0.0001\n",
    "# epochs = 1000\n",
    "# c = 10\n",
    "# clases = list({elem for elem in data[data.columns[-1]]})\n",
    "\n",
    "# model = multi_svm(alpha,epochs,c,batch_size=len(Y))\n",
    "# # model = multi_logistic(alpha,epochs)\n",
    "# model.train(X_train,Y_train,X_test,Y_test,clases)\n",
    "\n",
    "\n",
    "# # model = DT(X_train,Y_train)\n",
    "\n",
    "\n",
    "\n",
    "\n",
    "\n"
   ]
  },
  {
   "cell_type": "code",
   "execution_count": 15,
   "metadata": {},
   "outputs": [],
   "source": [
    "\n",
    "# clases = list({elem for elem in Y})\n",
    "# clases_map = {clases[i]:i for i in range(len(clases))}\n",
    "\n",
    "# pred = model.predict(X_test)\n",
    "\n",
    "\n",
    "# one_hot_data_pred = to_multi_label(pred,clases_map)\n",
    "\n",
    "# one_hot_real_data = to_multi_label(Y_test,clases_map)\n",
    "\n",
    "\n",
    "# print(confusion_matrix(Y_test,pred))"
   ]
  }
 ],
 "metadata": {
  "kernelspec": {
   "display_name": "Python 3",
   "language": "python",
   "name": "python3"
  },
  "language_info": {
   "codemirror_mode": {
    "name": "ipython",
    "version": 3
   },
   "file_extension": ".py",
   "mimetype": "text/x-python",
   "name": "python",
   "nbconvert_exporter": "python",
   "pygments_lexer": "ipython3",
   "version": "3.10.6"
  },
  "orig_nbformat": 4
 },
 "nbformat": 4,
 "nbformat_minor": 2
}
