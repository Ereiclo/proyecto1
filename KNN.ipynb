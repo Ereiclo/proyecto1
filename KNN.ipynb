{
  "nbformat": 4,
  "nbformat_minor": 0,
  "metadata": {
    "colab": {
      "provenance": []
    },
    "kernelspec": {
      "name": "python3",
      "display_name": "Python 3"
    },
    "language_info": {
      "name": "python"
    }
  },
  "cells": [
    {
      "cell_type": "code",
      "execution_count": null,
      "metadata": {
        "id": "sI1r1s6z2e0J"
      },
      "outputs": [],
      "source": [
        "import numpy as np\n",
        "from scipy.stats import mode\n",
        " \n",
        "#Distancia Euclideana\n",
        "def eucledian(p1,p2):\n",
        "    dist = np.sqrt(np.sum((p1-p2)**2))\n",
        "    return dist\n",
        " \n",
        "#KNN\n",
        "def predict(x_train, y , x_input, k):\n",
        "    op_labels = []\n",
        "     \n",
        "    for item in x_input: \n",
        "        point_dist = []\n",
        "         \n",
        "        for j in range(len(x_train)): \n",
        "            distances = eucledian(np.array(x_train[j,:]) , item) \n",
        "            point_dist.append(distances) \n",
        "        point_dist = np.array(point_dist) \n",
        "         \n",
        "        dist = np.argsort(point_dist)[:k] \n",
        "         \n",
        "        labels = y[dist]\n",
        "         \n",
        "        lab = mode(labels) \n",
        "        lab = lab.mode[0]\n",
        "        op_labels.append(lab)\n",
        " \n",
        "    return op_labels"
      ]
    }
  ]
}